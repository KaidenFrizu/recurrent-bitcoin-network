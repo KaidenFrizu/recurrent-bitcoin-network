{
 "cells": [
  {
   "cell_type": "code",
   "execution_count": 1,
   "metadata": {},
   "outputs": [],
   "source": [
    "%%capture\n",
    "# Redirects the current working directory to the project directory\n",
    "%cd .."
   ]
  },
  {
   "cell_type": "code",
   "execution_count": 2,
   "metadata": {},
   "outputs": [],
   "source": [
    "%load_ext tensorboard"
   ]
  },
  {
   "cell_type": "code",
   "execution_count": 3,
   "metadata": {},
   "outputs": [],
   "source": [
    "from src.model import RBN\n",
    "from tensorflow.keras.callbacks import TensorBoard\n",
    "from datetime import datetime\n",
    "\n",
    "import numpy as np\n",
    "\n",
    "import matplotlib.pyplot as plt\n",
    "%matplotlib inline"
   ]
  },
  {
   "cell_type": "code",
   "execution_count": 4,
   "metadata": {},
   "outputs": [],
   "source": [
    "X_dataset = np.load('raw/X_dataset.npy')\n",
    "y_dataset = np.load('raw/y_dataset.npy')"
   ]
  },
  {
   "cell_type": "code",
   "execution_count": 5,
   "metadata": {},
   "outputs": [
    {
     "name": "stdout",
     "output_type": "stream",
     "text": [
      "(246, 84, 21)\n",
      "(246, 28, 1)\n"
     ]
    }
   ],
   "source": [
    "print(X_dataset.shape)\n",
    "print(y_dataset.shape)"
   ]
  },
  {
   "cell_type": "code",
   "execution_count": 6,
   "metadata": {},
   "outputs": [],
   "source": [
    "RBN_model = RBN('RBN-oneshot-rev-1.2', t=84, k=21, H=28, units=200)\n"
   ]
  },
  {
   "cell_type": "code",
   "execution_count": 7,
   "metadata": {},
   "outputs": [
    {
     "data": {
      "text/plain": [
       "<tensorflow.python.training.tracking.util.CheckpointLoadStatus at 0x19e179433d0>"
      ]
     },
     "execution_count": 7,
     "metadata": {},
     "output_type": "execute_result"
    }
   ],
   "source": [
    "# RBN_model.load_weights('logs/weights/' + RBN_model.name)\n",
    "RBN_model.normalize.adapt(X_dataset)"
   ]
  },
  {
   "cell_type": "code",
   "execution_count": 8,
   "metadata": {},
   "outputs": [],
   "source": [
    "from tensorflow.keras.metrics import RootMeanSquaredError as rmse\n",
    "from tensorflow.keras.optimizers import Adam\n",
    "\n",
    "tf_rmse = rmse(name='rmse')\n",
    "tf_adam = Adam(learning_rate = 0.001, name='Adam')\n",
    "\n",
    "RBN_model.compile(optimizer=tf_adam, loss='mse', metrics=[\"mae\", tf_rmse])"
   ]
  },
  {
   "cell_type": "code",
   "execution_count": 9,
   "metadata": {},
   "outputs": [],
   "source": [
    "log_directory = 'logs/fit/' + RBN_model.name\n",
    "tb_callback = TensorBoard(log_dir=log_directory, histogram_freq=1)"
   ]
  },
  {
   "cell_type": "code",
   "execution_count": 10,
   "metadata": {},
   "outputs": [
    {
     "data": {
      "text/plain": [
       "<keras.callbacks.History at 0x19e71169880>"
      ]
     },
     "execution_count": 10,
     "metadata": {},
     "output_type": "execute_result"
    }
   ],
   "source": [
    "RBN_model.fit(X_dataset, y_dataset,\n",
    "              batch_size=1, epochs=300,\n",
    "              callbacks=[tb_callback],\n",
    "              validation_split=0.2,\n",
    "              verbose=0)"
   ]
  },
  {
   "cell_type": "code",
   "execution_count": 11,
   "metadata": {},
   "outputs": [
    {
     "name": "stdout",
     "output_type": "stream",
     "text": [
      "Model: \"RBN-oneshot-rev-1.1\"\n",
      "_________________________________________________________________\n",
      " Layer (type)                Output Shape              Param #   \n",
      "=================================================================\n",
      " Normalizer (Normalization)  multiple                  43        \n",
      "                                                                 \n",
      " Encoder (LSTM)              multiple                  48800     \n",
      "                                                                 \n",
      " Decoder (Dense)             multiple                  2828      \n",
      "                                                                 \n",
      "=================================================================\n",
      "Total params: 51,671\n",
      "Trainable params: 51,628\n",
      "Non-trainable params: 43\n",
      "_________________________________________________________________\n"
     ]
    }
   ],
   "source": [
    "RBN_model.summary()"
   ]
  },
  {
   "cell_type": "code",
   "execution_count": 15,
   "metadata": {},
   "outputs": [
    {
     "data": {
      "text/plain": [
       "<matplotlib.legend.Legend at 0x19e756b4970>"
      ]
     },
     "execution_count": 15,
     "metadata": {},
     "output_type": "execute_result"
    },
    {
     "data": {
      "image/png": "[encoded data removed]",
      "text/plain": [
       "<Figure size 720x288 with 1 Axes>"
      ]
     },
     "metadata": {
      "needs_background": "light"
     },
     "output_type": "display_data"
    }
   ],
   "source": [
    "fig, ax = plt.subplots(figsize=(10,4))\n",
    "test_points = RBN_model(X_dataset, training=False)\n",
    "ax.plot(test_points[20].numpy().reshape(-1), color='b', label='prediction')\n",
    "ax.plot(y_dataset[20], color='r', label='actual')\n",
    "\n",
    "# ax.set_yscale('log')\n",
    "ax.legend()"
   ]
  },
  {
   "cell_type": "code",
   "execution_count": 13,
   "metadata": {},
   "outputs": [
    {
     "data": {
      "text/plain": [
       "array([8185.908 , 8150.439 , 8114.5957, 8081.107 , 7954.3037, 7966.91  ,\n",
       "       7840.4424, 7894.747 , 7812.153 , 7742.7827, 7685.288 , 7523.738 ,\n",
       "       7489.955 , 7344.31  , 7401.6226, 7390.2456, 7253.9966, 7183.645 ,\n",
       "       6948.127 , 6865.698 , 6727.7793, 6752.972 , 6809.8403, 6670.6426,\n",
       "       6631.276 , 6526.5977, 6450.795 , 6392.0923], dtype=float32)"
      ]
     },
     "execution_count": 13,
     "metadata": {},
     "output_type": "execute_result"
    }
   ],
   "source": [
    "test_points[230].numpy()"
   ]
  },
  {
   "cell_type": "code",
   "execution_count": 14,
   "metadata": {},
   "outputs": [],
   "source": [
    "RBN_model.save_weights('logs/weights/' + RBN_model.name)"
   ]
  }
 ],
 "metadata": {
  "interpreter": {
   "hash": "da9ea65a0701267b79db464959814b3c154e2629a28ca16b84bf4814ea6436b8"
  },
  "kernelspec": {
   "display_name": "Python 3.9.6 64-bit ('rbnpackages': venv)",
   "language": "python",
   "name": "python3"
  },
  "language_info": {
   "codemirror_mode": {
    "name": "ipython",
    "version": 3
   },
   "file_extension": ".py",
   "mimetype": "text/x-python",
   "name": "python",
   "nbconvert_exporter": "python",
   "pygments_lexer": "ipython3",
   "version": "3.9.6"
  },
  "orig_nbformat": 4
 },
 "nbformat": 4,
 "nbformat_minor": 2
}
