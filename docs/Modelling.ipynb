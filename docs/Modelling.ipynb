{
 "cells": [
  {
   "cell_type": "code",
   "execution_count": 1,
   "metadata": {},
   "outputs": [],
   "source": [
    "%%capture\n",
    "# Redirects the current working directory to the project directory\n",
    "%cd ../src"
   ]
  },
  {
   "cell_type": "code",
   "execution_count": 2,
   "metadata": {},
   "outputs": [],
   "source": [
    "%load_ext tensorboard"
   ]
  },
  {
   "cell_type": "code",
   "execution_count": 3,
   "metadata": {},
   "outputs": [],
   "source": [
    "from model import RNNmodel\n",
    "\n",
    "import numpy as np\n",
    "import pandas as pd\n",
    "\n",
    "import matplotlib.pyplot as plt\n",
    "%matplotlib inline\n",
    "\n",
    "import seaborn as sns\n",
    "sns.set()"
   ]
  },
  {
   "cell_type": "code",
   "execution_count": 4,
   "metadata": {},
   "outputs": [],
   "source": [
    "train = pd.read_csv('../raw/train.csv', parse_dates=['timestamp'])\n",
    "test = pd.read_csv('../raw/test.csv', parse_dates=['timestamp'])"
   ]
  },
  {
   "cell_type": "code",
   "execution_count": 5,
   "metadata": {},
   "outputs": [
    {
     "data": {
      "text/html": [
       "<div>\n",
       "<style scoped>\n",
       "    .dataframe tbody tr th:only-of-type {\n",
       "        vertical-align: middle;\n",
       "    }\n",
       "\n",
       "    .dataframe tbody tr th {\n",
       "        vertical-align: top;\n",
       "    }\n",
       "\n",
       "    .dataframe thead th {\n",
       "        text-align: right;\n",
       "    }\n",
       "</style>\n",
       "<table border=\"1\" class=\"dataframe\">\n",
       "  <thead>\n",
       "    <tr style=\"text-align: right;\">\n",
       "      <th></th>\n",
       "      <th>timestamp</th>\n",
       "      <th>metric</th>\n",
       "      <th>submetric</th>\n",
       "      <th>value</th>\n",
       "    </tr>\n",
       "  </thead>\n",
       "  <tbody>\n",
       "    <tr>\n",
       "      <th>0</th>\n",
       "      <td>2016-01-01</td>\n",
       "      <td>act.addr.cnt</td>\n",
       "      <td>active_addresses</td>\n",
       "      <td>3.167810e+05</td>\n",
       "    </tr>\n",
       "    <tr>\n",
       "      <th>1</th>\n",
       "      <td>2016-01-02</td>\n",
       "      <td>act.addr.cnt</td>\n",
       "      <td>active_addresses</td>\n",
       "      <td>4.179660e+05</td>\n",
       "    </tr>\n",
       "    <tr>\n",
       "      <th>2</th>\n",
       "      <td>2016-01-03</td>\n",
       "      <td>act.addr.cnt</td>\n",
       "      <td>active_addresses</td>\n",
       "      <td>3.984430e+05</td>\n",
       "    </tr>\n",
       "    <tr>\n",
       "      <th>3</th>\n",
       "      <td>2016-01-04</td>\n",
       "      <td>act.addr.cnt</td>\n",
       "      <td>active_addresses</td>\n",
       "      <td>4.131590e+05</td>\n",
       "    </tr>\n",
       "    <tr>\n",
       "      <th>4</th>\n",
       "      <td>2016-01-05</td>\n",
       "      <td>act.addr.cnt</td>\n",
       "      <td>active_addresses</td>\n",
       "      <td>4.352910e+05</td>\n",
       "    </tr>\n",
       "    <tr>\n",
       "      <th>...</th>\n",
       "      <td>...</td>\n",
       "      <td>...</td>\n",
       "      <td>...</td>\n",
       "      <td>...</td>\n",
       "    </tr>\n",
       "    <tr>\n",
       "      <th>111442</th>\n",
       "      <td>2020-12-27</td>\n",
       "      <td>txn.vol</td>\n",
       "      <td>transaction_volume_usd</td>\n",
       "      <td>1.404424e+10</td>\n",
       "    </tr>\n",
       "    <tr>\n",
       "      <th>111443</th>\n",
       "      <td>2020-12-28</td>\n",
       "      <td>txn.vol</td>\n",
       "      <td>transaction_volume_usd</td>\n",
       "      <td>1.915253e+10</td>\n",
       "    </tr>\n",
       "    <tr>\n",
       "      <th>111444</th>\n",
       "      <td>2020-12-29</td>\n",
       "      <td>txn.vol</td>\n",
       "      <td>transaction_volume_usd</td>\n",
       "      <td>1.927709e+10</td>\n",
       "    </tr>\n",
       "    <tr>\n",
       "      <th>111445</th>\n",
       "      <td>2020-12-30</td>\n",
       "      <td>txn.vol</td>\n",
       "      <td>transaction_volume_usd</td>\n",
       "      <td>2.131078e+10</td>\n",
       "    </tr>\n",
       "    <tr>\n",
       "      <th>111446</th>\n",
       "      <td>2020-12-31</td>\n",
       "      <td>txn.vol</td>\n",
       "      <td>transaction_volume_usd</td>\n",
       "      <td>1.802731e+10</td>\n",
       "    </tr>\n",
       "  </tbody>\n",
       "</table>\n",
       "<p>111447 rows × 4 columns</p>\n",
       "</div>"
      ],
      "text/plain": [
       "        timestamp        metric               submetric         value\n",
       "0      2016-01-01  act.addr.cnt        active_addresses  3.167810e+05\n",
       "1      2016-01-02  act.addr.cnt        active_addresses  4.179660e+05\n",
       "2      2016-01-03  act.addr.cnt        active_addresses  3.984430e+05\n",
       "3      2016-01-04  act.addr.cnt        active_addresses  4.131590e+05\n",
       "4      2016-01-05  act.addr.cnt        active_addresses  4.352910e+05\n",
       "...           ...           ...                     ...           ...\n",
       "111442 2020-12-27       txn.vol  transaction_volume_usd  1.404424e+10\n",
       "111443 2020-12-28       txn.vol  transaction_volume_usd  1.915253e+10\n",
       "111444 2020-12-29       txn.vol  transaction_volume_usd  1.927709e+10\n",
       "111445 2020-12-30       txn.vol  transaction_volume_usd  2.131078e+10\n",
       "111446 2020-12-31       txn.vol  transaction_volume_usd  1.802731e+10\n",
       "\n",
       "[111447 rows x 4 columns]"
      ]
     },
     "execution_count": 5,
     "metadata": {},
     "output_type": "execute_result"
    }
   ],
   "source": [
    "train"
   ]
  },
  {
   "cell_type": "code",
   "execution_count": 6,
   "metadata": {},
   "outputs": [
    {
     "data": {
      "text/html": [
       "<div>\n",
       "<style scoped>\n",
       "    .dataframe tbody tr th:only-of-type {\n",
       "        vertical-align: middle;\n",
       "    }\n",
       "\n",
       "    .dataframe tbody tr th {\n",
       "        vertical-align: top;\n",
       "    }\n",
       "\n",
       "    .dataframe thead th {\n",
       "        text-align: right;\n",
       "    }\n",
       "</style>\n",
       "<table border=\"1\" class=\"dataframe\">\n",
       "  <thead>\n",
       "    <tr style=\"text-align: right;\">\n",
       "      <th></th>\n",
       "      <th>timestamp</th>\n",
       "      <th>metric</th>\n",
       "      <th>submetric</th>\n",
       "      <th>value</th>\n",
       "    </tr>\n",
       "  </thead>\n",
       "  <tbody>\n",
       "    <tr>\n",
       "      <th>0</th>\n",
       "      <td>2021-01-01</td>\n",
       "      <td>act.addr.cnt</td>\n",
       "      <td>active_addresses</td>\n",
       "      <td>1.001890e+06</td>\n",
       "    </tr>\n",
       "    <tr>\n",
       "      <th>1</th>\n",
       "      <td>2021-01-02</td>\n",
       "      <td>act.addr.cnt</td>\n",
       "      <td>active_addresses</td>\n",
       "      <td>1.140633e+06</td>\n",
       "    </tr>\n",
       "    <tr>\n",
       "      <th>2</th>\n",
       "      <td>2021-01-03</td>\n",
       "      <td>act.addr.cnt</td>\n",
       "      <td>active_addresses</td>\n",
       "      <td>1.184688e+06</td>\n",
       "    </tr>\n",
       "    <tr>\n",
       "      <th>3</th>\n",
       "      <td>2021-01-04</td>\n",
       "      <td>act.addr.cnt</td>\n",
       "      <td>active_addresses</td>\n",
       "      <td>1.270082e+06</td>\n",
       "    </tr>\n",
       "    <tr>\n",
       "      <th>4</th>\n",
       "      <td>2021-01-05</td>\n",
       "      <td>act.addr.cnt</td>\n",
       "      <td>active_addresses</td>\n",
       "      <td>1.230529e+06</td>\n",
       "    </tr>\n",
       "    <tr>\n",
       "      <th>...</th>\n",
       "      <td>...</td>\n",
       "      <td>...</td>\n",
       "      <td>...</td>\n",
       "      <td>...</td>\n",
       "    </tr>\n",
       "    <tr>\n",
       "      <th>11036</th>\n",
       "      <td>2021-06-26</td>\n",
       "      <td>txn.vol</td>\n",
       "      <td>transaction_volume_usd</td>\n",
       "      <td>2.566747e+10</td>\n",
       "    </tr>\n",
       "    <tr>\n",
       "      <th>11037</th>\n",
       "      <td>2021-06-27</td>\n",
       "      <td>txn.vol</td>\n",
       "      <td>transaction_volume_usd</td>\n",
       "      <td>1.420066e+10</td>\n",
       "    </tr>\n",
       "    <tr>\n",
       "      <th>11038</th>\n",
       "      <td>2021-06-28</td>\n",
       "      <td>txn.vol</td>\n",
       "      <td>transaction_volume_usd</td>\n",
       "      <td>1.598501e+10</td>\n",
       "    </tr>\n",
       "    <tr>\n",
       "      <th>11039</th>\n",
       "      <td>2021-06-29</td>\n",
       "      <td>txn.vol</td>\n",
       "      <td>transaction_volume_usd</td>\n",
       "      <td>2.084147e+10</td>\n",
       "    </tr>\n",
       "    <tr>\n",
       "      <th>11040</th>\n",
       "      <td>2021-06-30</td>\n",
       "      <td>txn.vol</td>\n",
       "      <td>transaction_volume_usd</td>\n",
       "      <td>1.876082e+10</td>\n",
       "    </tr>\n",
       "  </tbody>\n",
       "</table>\n",
       "<p>11041 rows × 4 columns</p>\n",
       "</div>"
      ],
      "text/plain": [
       "       timestamp        metric               submetric         value\n",
       "0     2021-01-01  act.addr.cnt        active_addresses  1.001890e+06\n",
       "1     2021-01-02  act.addr.cnt        active_addresses  1.140633e+06\n",
       "2     2021-01-03  act.addr.cnt        active_addresses  1.184688e+06\n",
       "3     2021-01-04  act.addr.cnt        active_addresses  1.270082e+06\n",
       "4     2021-01-05  act.addr.cnt        active_addresses  1.230529e+06\n",
       "...          ...           ...                     ...           ...\n",
       "11036 2021-06-26       txn.vol  transaction_volume_usd  2.566747e+10\n",
       "11037 2021-06-27       txn.vol  transaction_volume_usd  1.420066e+10\n",
       "11038 2021-06-28       txn.vol  transaction_volume_usd  1.598501e+10\n",
       "11039 2021-06-29       txn.vol  transaction_volume_usd  2.084147e+10\n",
       "11040 2021-06-30       txn.vol  transaction_volume_usd  1.876082e+10\n",
       "\n",
       "[11041 rows x 4 columns]"
      ]
     },
     "execution_count": 6,
     "metadata": {},
     "output_type": "execute_result"
    }
   ],
   "source": [
    "test"
   ]
  },
  {
   "cell_type": "code",
   "execution_count": 7,
   "metadata": {},
   "outputs": [],
   "source": [
    "RNNmodel_main = RNNmodel(t=28, k=21, H=14, model_name='v1.7.11-main')\n",
    "RNNmodel_k15 = RNNmodel(t=28, k=15, H=14, model_name='v1.7.11-k15')\n",
    "RNNmodel_k10 = RNNmodel(t=28, k=10, H=14, model_name='v1.7.11-k10')"
   ]
  },
  {
   "cell_type": "code",
   "execution_count": 8,
   "metadata": {},
   "outputs": [],
   "source": [
    "RNNmodel_main.initialize(train, test)\n",
    "RNNmodel_k15.initialize(train, test)\n",
    "RNNmodel_k10.initialize(train, test)"
   ]
  },
  {
   "cell_type": "code",
   "execution_count": 9,
   "metadata": {},
   "outputs": [],
   "source": [
    "RNNmodel_main.train(batch_size=32, epochs=100)"
   ]
  },
  {
   "cell_type": "code",
   "execution_count": 10,
   "metadata": {},
   "outputs": [
    {
     "name": "stdout",
     "output_type": "stream",
     "text": [
      "Model: \"v1.7.11-main\"\n",
      "_________________________________________________________________\n",
      " Layer (type)                Output Shape              Param #   \n",
      "=================================================================\n",
      " Past_Inputs (InputLayer)    [(None, 28, 21)]          0         \n",
      "                                                                 \n",
      " Normalizer (Normalization)  multiple                  43        \n",
      "                                                                 \n",
      " Encoder (LSTM)              multiple                  73500     \n",
      "                                                                 \n",
      " Future_Inputs (InputLayer)  [(None, 28, 5)]           0         \n",
      "                                                                 \n",
      " Decoder (LSTM)              multiple                  65500     \n",
      "                                                                 \n",
      " time_distributed (TimeDistr  multiple                 126       \n",
      " ibuted)                                                         \n",
      "                                                                 \n",
      "=================================================================\n",
      "Total params: 139,169\n",
      "Trainable params: 139,126\n",
      "Non-trainable params: 43\n",
      "_________________________________________________________________\n"
     ]
    }
   ],
   "source": [
    "RNNmodel_main.RNNmodel.summary()"
   ]
  },
  {
   "cell_type": "code",
   "execution_count": 11,
   "metadata": {},
   "outputs": [],
   "source": [
    "RNNmodel_k15.train(batch_size=32, epochs=100)\n"
   ]
  },
  {
   "cell_type": "code",
   "execution_count": 12,
   "metadata": {},
   "outputs": [
    {
     "name": "stdout",
     "output_type": "stream",
     "text": [
      "Model: \"v1.7.11-k15\"\n",
      "_________________________________________________________________\n",
      " Layer (type)                Output Shape              Param #   \n",
      "=================================================================\n",
      " Past_Inputs (InputLayer)    [(None, 28, 15)]          0         \n",
      "                                                                 \n",
      " Normalizer (Normalization)  multiple                  43        \n",
      "                                                                 \n",
      " Encoder (LSTM)              multiple                  73500     \n",
      "                                                                 \n",
      " Future_Inputs (InputLayer)  [(None, 28, 5)]           0         \n",
      "                                                                 \n",
      " Decoder (LSTM)              multiple                  65500     \n",
      "                                                                 \n",
      " time_distributed_1 (TimeDis  multiple                 126       \n",
      " tributed)                                                       \n",
      "                                                                 \n",
      "=================================================================\n",
      "Total params: 139,169\n",
      "Trainable params: 139,126\n",
      "Non-trainable params: 43\n",
      "_________________________________________________________________\n"
     ]
    }
   ],
   "source": [
    "RNNmodel_k15.RNNmodel.summary()"
   ]
  },
  {
   "cell_type": "code",
   "execution_count": 13,
   "metadata": {},
   "outputs": [],
   "source": [
    "RNNmodel_k10.train(batch_size=32, epochs=100)"
   ]
  },
  {
   "cell_type": "code",
   "execution_count": 14,
   "metadata": {},
   "outputs": [
    {
     "name": "stdout",
     "output_type": "stream",
     "text": [
      "Model: \"v1.7.11-k10\"\n",
      "_________________________________________________________________\n",
      " Layer (type)                Output Shape              Param #   \n",
      "=================================================================\n",
      " Past_Inputs (InputLayer)    [(None, 28, 10)]          0         \n",
      "                                                                 \n",
      " Normalizer (Normalization)  multiple                  43        \n",
      "                                                                 \n",
      " Encoder (LSTM)              multiple                  73500     \n",
      "                                                                 \n",
      " Future_Inputs (InputLayer)  [(None, 28, 5)]           0         \n",
      "                                                                 \n",
      " Decoder (LSTM)              multiple                  65500     \n",
      "                                                                 \n",
      " time_distributed_2 (TimeDis  multiple                 126       \n",
      " tributed)                                                       \n",
      "                                                                 \n",
      "=================================================================\n",
      "Total params: 139,169\n",
      "Trainable params: 139,126\n",
      "Non-trainable params: 43\n",
      "_________________________________________________________________\n"
     ]
    }
   ],
   "source": [
    "RNNmodel_k10.RNNmodel.summary()"
   ]
  },
  {
   "cell_type": "markdown",
   "metadata": {},
   "source": [
    "### Test Predictions"
   ]
  },
  {
   "cell_type": "code",
   "execution_count": 15,
   "metadata": {},
   "outputs": [
    {
     "data": {
      "text/plain": [
       "<matplotlib.legend.Legend at 0x16605aa1f40>"
      ]
     },
     "execution_count": 15,
     "metadata": {},
     "output_type": "execute_result"
    },
    {
     "data": {
      "image/png": "[encoded data removed]",
      "text/plain": [
       "<Figure size 864x432 with 1 Axes>"
      ]
     },
     "metadata": {},
     "output_type": "display_data"
    }
   ],
   "source": [
    "test_point=200\n",
    "fig, ax = plt.subplots(figsize=(12,6))\n",
    "\n",
    "xpoints_base = np.arange(RNNmodel_main.t + RNNmodel_main.H)\n",
    "xpoints_pred = np.arange(RNNmodel_main.t, RNNmodel_main.t + RNNmodel_main.H)\n",
    "ypoints_base = np.concatenate(\n",
    "    (RNNmodel_main.trainplotdata[test_point], RNNmodel_main.ytrain[test_point])\n",
    ")\n",
    "ypoints_base = ypoints_base.reshape(ypoints_base.shape[0])\n",
    "\n",
    "testpoints = RNNmodel_main.predict(RNNmodel_main.xtrain)\n",
    "testpoints_k15 = RNNmodel_k15.predict(RNNmodel_k15.xtrain)\n",
    "testpoints_k10 = RNNmodel_k10.predict(RNNmodel_k10.xtrain)\n",
    "\n",
    "\n",
    "\n",
    "ax.plot(xpoints_pred, testpoints[test_point],\n",
    "        linestyle='-', color='blue', label='no_svd')\n",
    "ax.plot(xpoints_pred, testpoints_k15[test_point],\n",
    "        linestyle='-', color='red', label='k15')\n",
    "ax.plot(xpoints_pred, testpoints_k10[test_point],\n",
    "        linestyle='-', color='green', label='k10')\n",
    "ax.plot(xpoints_base, ypoints_base, color='black', label='actual')\n",
    "\n",
    "ax.set_xlabel('Timestep (days)')\n",
    "ax.set_ylabel('Bitcoin Price')\n",
    "ax.set_title('Bitcoin Price 14-Day Prediction')\n",
    "ax.legend()"
   ]
  },
  {
   "cell_type": "code",
   "execution_count": 19,
   "metadata": {},
   "outputs": [
    {
     "data": {
      "text/plain": [
       "<matplotlib.legend.Legend at 0x1660219db20>"
      ]
     },
     "execution_count": 19,
     "metadata": {},
     "output_type": "execute_result"
    },
    {
     "data": {
      "image/png": "[encoded data removed]",
      "text/plain": [
       "<Figure size 864x432 with 1 Axes>"
      ]
     },
     "metadata": {},
     "output_type": "display_data"
    }
   ],
   "source": [
    "test_point=123\n",
    "fig, ax = plt.subplots(figsize=(12,6))\n",
    "\n",
    "xpoints_base = np.arange(RNNmodel_main.t + RNNmodel_main.H)\n",
    "xpoints_pred = np.arange(RNNmodel_main.t, RNNmodel_main.t + RNNmodel_main.H)\n",
    "ypoints_base = np.concatenate(\n",
    "    (RNNmodel_main.trainplotdata[test_point], RNNmodel_main.ytrain[test_point])\n",
    ")\n",
    "ypoints_base = ypoints_base.reshape(ypoints_base.shape[0])\n",
    "\n",
    "testpoints = RNNmodel_main.predict(RNNmodel_main.xtrain)\n",
    "testpoints_k15 = RNNmodel_k15.predict(RNNmodel_k15.xtrain)\n",
    "testpoints_k10 = RNNmodel_k10.predict(RNNmodel_k10.xtrain)\n",
    "\n",
    "\n",
    "\n",
    "ax.plot(xpoints_pred, testpoints[test_point],\n",
    "        linestyle='-', color='blue', label='no_svd')\n",
    "ax.plot(xpoints_pred, testpoints_k15[test_point],\n",
    "        linestyle='-', color='red', label='k15')\n",
    "ax.plot(xpoints_pred, testpoints_k10[test_point],\n",
    "        linestyle='-', color='green', label='k10')\n",
    "ax.plot(xpoints_base, ypoints_base, color='black', label='actual')\n",
    "\n",
    "ax.set_xlabel('Timestep (days)')\n",
    "ax.set_ylabel('Bitcoin Price')\n",
    "ax.set_title('Bitcoin Price 14-Day Prediction')\n",
    "ax.legend()"
   ]
  },
  {
   "cell_type": "code",
   "execution_count": 20,
   "metadata": {},
   "outputs": [
    {
     "data": {
      "text/plain": [
       "<matplotlib.legend.Legend at 0x1660b4ceb20>"
      ]
     },
     "execution_count": 20,
     "metadata": {},
     "output_type": "execute_result"
    },
    {
     "data": {
      "image/png": "[encoded data removed]",
      "text/plain": [
       "<Figure size 864x432 with 1 Axes>"
      ]
     },
     "metadata": {},
     "output_type": "display_data"
    }
   ],
   "source": [
    "test_point=91\n",
    "fig, ax = plt.subplots(figsize=(12,6))\n",
    "\n",
    "xpoints_base = np.arange(RNNmodel_main.t + RNNmodel_main.H)\n",
    "xpoints_pred = np.arange(RNNmodel_main.t, RNNmodel_main.t + RNNmodel_main.H)\n",
    "ypoints_base = np.concatenate(\n",
    "    (RNNmodel_main.testplotdata[test_point], RNNmodel_main.ytest[test_point])\n",
    ")\n",
    "ypoints_base = ypoints_base.reshape(ypoints_base.shape[0])\n",
    "\n",
    "testpoints = RNNmodel_main.predict(RNNmodel_main.xtest)\n",
    "testpoints_k15 = RNNmodel_k15.predict(RNNmodel_k15.xtest)\n",
    "testpoints_k10 = RNNmodel_k10.predict(RNNmodel_k10.xtest)\n",
    "\n",
    "\n",
    "\n",
    "ax.plot(xpoints_pred, testpoints[test_point],\n",
    "        linestyle='-', color='blue', label='no_svd')\n",
    "ax.plot(xpoints_pred, testpoints_k15[test_point],\n",
    "        linestyle='-', color='red', label='k15')\n",
    "ax.plot(xpoints_pred, testpoints_k10[test_point],\n",
    "        linestyle='-', color='green', label='k10')\n",
    "ax.plot(xpoints_base, ypoints_base, color='black', label='actual')\n",
    "\n",
    "ax.set_xlabel('Timestep (days)')\n",
    "ax.set_ylabel('Bitcoin Price')\n",
    "ax.set_title('Bitcoin Price 14-Day Prediction')\n",
    "ax.legend()"
   ]
  },
  {
   "cell_type": "code",
   "execution_count": null,
   "metadata": {},
   "outputs": [],
   "source": []
  }
 ],
 "metadata": {
  "interpreter": {
   "hash": "da9ea65a0701267b79db464959814b3c154e2629a28ca16b84bf4814ea6436b8"
  },
  "kernelspec": {
   "display_name": "Python 3.8 - Tensorflow",
   "language": "python",
   "name": "python3"
  },
  "language_info": {
   "codemirror_mode": {
    "name": "ipython",
    "version": 3
   },
   "file_extension": ".py",
   "mimetype": "text/x-python",
   "name": "python",
   "nbconvert_exporter": "python",
   "pygments_lexer": "ipython3",
   "version": "3.9.6"
  },
  "orig_nbformat": 4
 },
 "nbformat": 4,
 "nbformat_minor": 2
}
