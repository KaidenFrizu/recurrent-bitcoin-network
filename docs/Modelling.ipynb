{
 "cells": [
  {
   "cell_type": "code",
   "execution_count": 1,
   "metadata": {},
   "outputs": [],
   "source": [
    "%%capture\n",
    "# Redirects the current working directory to the project directory\n",
    "%cd .."
   ]
  },
  {
   "cell_type": "code",
   "execution_count": 2,
   "metadata": {},
   "outputs": [],
   "source": [
    "%load_ext tensorboard"
   ]
  },
  {
   "cell_type": "code",
   "execution_count": 3,
   "metadata": {},
   "outputs": [],
   "source": [
    "from src.model import RBN\n",
    "from tensorflow.keras.callbacks import TensorBoard\n",
    "from datetime import datetime\n",
    "import numpy as np"
   ]
  },
  {
   "cell_type": "code",
   "execution_count": 4,
   "metadata": {},
   "outputs": [],
   "source": [
    "X_dataset = np.load('raw/X_dataset.npy')\n",
    "y_dataset = np.load('raw/y_dataset.npy')"
   ]
  },
  {
   "cell_type": "code",
   "execution_count": 5,
   "metadata": {},
   "outputs": [],
   "source": [
    "l = int(len(X_dataset) * 0.7)\n",
    "X_dataset , X_val = X_dataset[:l], X_dataset[l:]\n",
    "y_dataset , y_val = y_dataset[:l], y_dataset[l:]"
   ]
  },
  {
   "cell_type": "code",
   "execution_count": 6,
   "metadata": {},
   "outputs": [
    {
     "name": "stdout",
     "output_type": "stream",
     "text": [
      "(172, 84, 56)\n",
      "(172, 28, 1)\n",
      "(74, 84, 56)\n",
      "(74, 28, 1)\n"
     ]
    }
   ],
   "source": [
    "print(X_dataset.shape)\n",
    "print(y_dataset.shape)\n",
    "print(X_val.shape)\n",
    "print(y_val.shape)"
   ]
  },
  {
   "cell_type": "code",
   "execution_count": 7,
   "metadata": {},
   "outputs": [],
   "source": [
    "RBN_model = RBN(t=84, k=56, H=28, units=100)"
   ]
  },
  {
   "cell_type": "code",
   "execution_count": 8,
   "metadata": {},
   "outputs": [],
   "source": [
    "RBN_model.compile(optimizer=\"Adam\", loss=\"mse\", metrics=[\"mae\"])"
   ]
  },
  {
   "cell_type": "code",
   "execution_count": 9,
   "metadata": {},
   "outputs": [],
   "source": [
    "log_directory = 'logs/fit/' + datetime.now().strftime('%Y-%m-%dT%H%M')\n",
    "tb_callback = TensorBoard(log_dir=log_directory, histogram_freq=1)"
   ]
  },
  {
   "cell_type": "code",
   "execution_count": 10,
   "metadata": {},
   "outputs": [
    {
     "name": "stdout",
     "output_type": "stream",
     "text": [
      "Epoch 1/10\n",
      "172/172 [==============================] - 6s 19ms/step - loss: 36133904.0000 - mae: 4647.5234 - val_loss: 112592464.0000 - val_mae: 10130.3398\n",
      "Epoch 2/10\n",
      "172/172 [==============================] - 3s 15ms/step - loss: 36095360.0000 - mae: 4643.2920 - val_loss: 112509464.0000 - val_mae: 10126.2451\n",
      "Epoch 3/10\n",
      "172/172 [==============================] - 3s 15ms/step - loss: 36057204.0000 - mae: 4639.1709 - val_loss: 112424416.0000 - val_mae: 10122.0449\n",
      "Epoch 4/10\n",
      "172/172 [==============================] - 2s 14ms/step - loss: 36018792.0000 - mae: 4635.1978 - val_loss: 112340440.0000 - val_mae: 10117.8945\n",
      "Epoch 5/10\n",
      "172/172 [==============================] - 3s 15ms/step - loss: 35980328.0000 - mae: 4630.9966 - val_loss: 112257280.0000 - val_mae: 10113.7861\n",
      "Epoch 6/10\n",
      "172/172 [==============================] - 3s 15ms/step - loss: 35942036.0000 - mae: 4626.8867 - val_loss: 112172184.0000 - val_mae: 10109.5801\n",
      "Epoch 7/10\n",
      "172/172 [==============================] - 3s 15ms/step - loss: 35903812.0000 - mae: 4622.6372 - val_loss: 112089576.0000 - val_mae: 10105.4922\n",
      "Epoch 8/10\n",
      "172/172 [==============================] - 3s 15ms/step - loss: 35865820.0000 - mae: 4618.5303 - val_loss: 112005048.0000 - val_mae: 10101.3115\n",
      "Epoch 9/10\n",
      "172/172 [==============================] - 3s 15ms/step - loss: 35827824.0000 - mae: 4614.3799 - val_loss: 111921152.0000 - val_mae: 10097.1592\n",
      "Epoch 10/10\n",
      "172/172 [==============================] - 3s 15ms/step - loss: 35789724.0000 - mae: 4610.3828 - val_loss: 111838200.0000 - val_mae: 10093.0488\n"
     ]
    },
    {
     "data": {
      "text/plain": [
       "<keras.callbacks.History at 0x23c0af3dc10>"
      ]
     },
     "execution_count": 10,
     "metadata": {},
     "output_type": "execute_result"
    }
   ],
   "source": [
    "RBN_model.fit(X_dataset, y_dataset,\n",
    "              batch_size=1, epochs=10,\n",
    "              callbacks = [tb_callback],\n",
    "              validation_data = (X_val, y_val))"
   ]
  },
  {
   "cell_type": "code",
   "execution_count": 11,
   "metadata": {},
   "outputs": [],
   "source": [
    "import matplotlib.pyplot as plt\n",
    "%matplotlib inline"
   ]
  },
  {
   "cell_type": "code",
   "execution_count": 12,
   "metadata": {},
   "outputs": [
    {
     "data": {
      "text/plain": [
       "<matplotlib.legend.Legend at 0x23c11397a30>"
      ]
     },
     "execution_count": 12,
     "metadata": {},
     "output_type": "execute_result"
    },
    {
     "data": {
      "image/png": "[encoded data removed]",
      "text/plain": [
       "<Figure size 720x288 with 1 Axes>"
      ]
     },
     "metadata": {
      "needs_background": "light"
     },
     "output_type": "display_data"
    }
   ],
   "source": [
    "fig, ax = plt.subplots(figsize=(10,4))\n",
    "test_points = RBN_model(X_dataset[10], training=False)\n",
    "ax.plot(test_points.numpy().reshape(-1), color='b', label='prediction')\n",
    "ax.plot(y_dataset[10], color='r', label='actual')\n",
    "\n",
    "ax.legend()"
   ]
  },
  {
   "cell_type": "code",
   "execution_count": null,
   "metadata": {},
   "outputs": [],
   "source": []
  }
 ],
 "metadata": {
  "interpreter": {
   "hash": "da9ea65a0701267b79db464959814b3c154e2629a28ca16b84bf4814ea6436b8"
  },
  "kernelspec": {
   "display_name": "Python 3.9.6 64-bit ('rbnpackages': venv)",
   "language": "python",
   "name": "python3"
  },
  "language_info": {
   "codemirror_mode": {
    "name": "ipython",
    "version": 3
   },
   "file_extension": ".py",
   "mimetype": "text/x-python",
   "name": "python",
   "nbconvert_exporter": "python",
   "pygments_lexer": "ipython3",
   "version": "3.9.6"
  },
  "orig_nbformat": 4
 },
 "nbformat": 4,
 "nbformat_minor": 2
}
